{
 "cells": [
  {
   "cell_type": "code",
   "execution_count": 3,
   "metadata": {},
   "outputs": [],
   "source": [
    "import pandas as pd\n",
    "import tweepy\n",
    "import csv\n",
    "\n",
    "consumer_key = 'JVG6jTdGES3dQzLwjTti6cxI3'\n",
    "consumer_secret = 'LTfxYvaBv3pG7T7pNEt22gfGXktDAsyuJAiusdthbkEvPgUXmI'\n",
    "access_token = '1048577269013381121-B2QSHS2FaTNeB4c9oVY02Z4Qs448Md'\n",
    "access_token_secret = 'x3xEezyvlR7dnI6AtYjJjeVj9MU45ccJ3cOJtmMVZ7ZcB'\n",
    "\n",
    "auth = tweepy.OAuthHandler(consumer_key, consumer_secret) \n",
    "auth.set_access_token(access_token, access_token_secret)\n",
    "api = tweepy.API(auth)\n",
    "\n",
    "tweet_url = pd.read_csv(\"OLAprilMay19.txt\", index_col= None,\n",
    "header = None, names = [\"links\"])\n",
    "\n",
    "af = lambda x: x[\"links\"].split(\"/\")[-1]\n",
    "tweet_url['id'] = tweet_url.apply(af, axis=1)\n",
    "tweet_url.head()\n",
    "\n",
    "ids = tweet_url['id'].tolist()\n",
    "total_count = len(ids)\n",
    "chunks = (total_count - 1) // 50 + 1\n",
    "\n",
    "def fetch_tw(ids):\n",
    "    list_of_tw_status = api.statuses_lookup(ids, tweet_mode= \"extended\")\n",
    "    empty_data = pd.DataFrame()\n",
    "    for status in list_of_tw_status:\n",
    "            tweet_elem = {\"date\": status.created_at,\n",
    "                     \"tweet_id\":status.id,\n",
    "                     \"tweet\":status.full_text,\n",
    "                     \"User location\":status.user.location,\n",
    "                     \"Retweet count\":status.retweet_count,\n",
    "                     \"Like count\":status.favorite_count,\n",
    "                     \"Source\":status.source}\n",
    "            empty_data = empty_data.append(tweet_elem, ignore_index = True)\n",
    "    empty_data.to_csv(\"OLAprilMay19.csv\", mode=\"a\")\n",
    "\n",
    "for i in range(chunks):\n",
    "        batch = ids[i*50:(i+1)*50]\n",
    "        result = fetch_tw(batch)"
   ]
  },
  {
   "cell_type": "code",
   "execution_count": null,
   "metadata": {},
   "outputs": [],
   "source": []
  },
  {
   "cell_type": "code",
   "execution_count": null,
   "metadata": {},
   "outputs": [],
   "source": []
  }
 ],
 "metadata": {
  "kernelspec": {
   "display_name": "Python 3",
   "language": "python",
   "name": "python3"
  },
  "language_info": {
   "codemirror_mode": {
    "name": "ipython",
    "version": 3
   },
   "file_extension": ".py",
   "mimetype": "text/x-python",
   "name": "python",
   "nbconvert_exporter": "python",
   "pygments_lexer": "ipython3",
   "version": "3.8.3"
  }
 },
 "nbformat": 4,
 "nbformat_minor": 4
}
